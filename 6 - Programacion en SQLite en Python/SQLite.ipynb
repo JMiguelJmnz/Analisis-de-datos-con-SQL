{
 "cells": [
  {
   "cell_type": "code",
   "execution_count": 1,
   "id": "32b12d50-2911-44ac-95a6-1834802739df",
   "metadata": {},
   "outputs": [],
   "source": [
    "import sqlite3"
   ]
  },
  {
   "cell_type": "code",
   "execution_count": 2,
   "id": "4e042210-cb9a-4d15-8c2e-06ed0a814e87",
   "metadata": {},
   "outputs": [],
   "source": [
    "conn = sqlite3.connect(\"Base.db\")"
   ]
  },
  {
   "cell_type": "code",
   "execution_count": 3,
   "id": "e78c8033-7b66-432a-8c65-816c7d19a1f9",
   "metadata": {},
   "outputs": [
    {
     "data": {
      "text/plain": [
       "<sqlite3.Connection at 0x29057d934c0>"
      ]
     },
     "execution_count": 3,
     "metadata": {},
     "output_type": "execute_result"
    }
   ],
   "source": [
    "conn"
   ]
  },
  {
   "cell_type": "code",
   "execution_count": 4,
   "id": "d180fc83-3d11-43d6-ad9a-622a77ed44ff",
   "metadata": {},
   "outputs": [
    {
     "data": {
      "text/plain": [
       "<sqlite3.Cursor at 0x290582ef140>"
      ]
     },
     "execution_count": 4,
     "metadata": {},
     "output_type": "execute_result"
    }
   ],
   "source": [
    "conn.cursor()"
   ]
  },
  {
   "cell_type": "code",
   "execution_count": 5,
   "id": "6ada59e8-d77a-409b-a31b-c1bbaed6874b",
   "metadata": {},
   "outputs": [],
   "source": [
    "cur = conn.cursor()"
   ]
  },
  {
   "cell_type": "code",
   "execution_count": 15,
   "id": "3c00a89a-90a9-42f3-8cca-327912c21704",
   "metadata": {},
   "outputs": [
    {
     "data": {
      "text/plain": [
       "<sqlite3.Cursor at 0x290582efac0>"
      ]
     },
     "execution_count": 15,
     "metadata": {},
     "output_type": "execute_result"
    }
   ],
   "source": [
    "cur.execute(\"\"\"\n",
    "    CREATE TABLE Clientes (\n",
    "        CustomerID INTEGER PRIMARY KEY,\n",
    "        CustomerName TEXT,\n",
    "        ContactName TEXT,\n",
    "        Address TEXT,\n",
    "        City TEXT,\n",
    "        PostalCode TEXT,\n",
    "        Country TEXT,\n",
    "        PurchaseUSD INTEGER\n",
    "    );\n",
    "\"\"\")"
   ]
  },
  {
   "cell_type": "code",
   "execution_count": 16,
   "id": "dc21f9fe-77b3-44a8-aa3d-732acb2fbcd7",
   "metadata": {},
   "outputs": [],
   "source": [
    "# Inserción de valores\n",
    "cur.execute(\"\"\"\n",
    "    INSERT INTO Clientes (CustomerName, ContactName, Address, City, PostalCode, Country, PurchaseUSD)\n",
    "    VALUES ('Alfreds Futterkiste', 'Maria Anders', 'Obere Str. 57','Berlin','12209','Germany',14861),\n",
    "        ('Ana Trujillo Emparedados y helados','Ana Trujillo','Avda. de la Constitución 2222','México D.F.','5021','Mexico',9900),\n",
    "        ('Antonio Moreno Taquería','Antonio Moreno','Mataderos 2312','México D.F.','5023','Mexico',7735),\n",
    "        ('Around the Horn','Thomas Hardy','120 Hanover Sq.','London','WA1 1DP','UK',10295),\n",
    "        ('Berglunds snabbkop','Christina Berglund','Berguvsvigen 8','Lule','S-958 22','Sweden',6755);\n",
    "\"\"\")\n",
    "conn.commit()"
   ]
  },
  {
   "cell_type": "code",
   "execution_count": 17,
   "id": "9c6c441e-266f-4976-8650-dcfc0b9e6028",
   "metadata": {},
   "outputs": [],
   "source": [
    "with open(\"Operaciones.sql\", \"w\") as _file:\n",
    "    for line in conn.iterdump():\n",
    "        _file.write(f\"{line}\\n\")"
   ]
  },
  {
   "cell_type": "code",
   "execution_count": 18,
   "id": "5c872bbe-ddb1-4e30-9477-ed88acd90054",
   "metadata": {},
   "outputs": [
    {
     "data": {
      "text/plain": [
       "[(1,\n",
       "  'Alfreds Futterkiste',\n",
       "  'Maria Anders',\n",
       "  'Obere Str. 57',\n",
       "  'Berlin',\n",
       "  '12209',\n",
       "  'Germany',\n",
       "  14861),\n",
       " (2,\n",
       "  'Ana Trujillo Emparedados y helados',\n",
       "  'Ana Trujillo',\n",
       "  'Avda. de la Constitución 2222',\n",
       "  'México D.F.',\n",
       "  '5021',\n",
       "  'Mexico',\n",
       "  9900),\n",
       " (3,\n",
       "  'Antonio Moreno Taquería',\n",
       "  'Antonio Moreno',\n",
       "  'Mataderos 2312',\n",
       "  'México D.F.',\n",
       "  '5023',\n",
       "  'Mexico',\n",
       "  7735),\n",
       " (4,\n",
       "  'Around the Horn',\n",
       "  'Thomas Hardy',\n",
       "  '120 Hanover Sq.',\n",
       "  'London',\n",
       "  'WA1 1DP',\n",
       "  'UK',\n",
       "  10295),\n",
       " (5,\n",
       "  'Berglunds snabbkop',\n",
       "  'Christina Berglund',\n",
       "  'Berguvsvigen 8',\n",
       "  'Lule',\n",
       "  'S-958 22',\n",
       "  'Sweden',\n",
       "  6755)]"
      ]
     },
     "execution_count": 18,
     "metadata": {},
     "output_type": "execute_result"
    }
   ],
   "source": [
    "conn.execute(\"SELECT * FROM Clientes;\").fetchall()"
   ]
  },
  {
   "cell_type": "code",
   "execution_count": null,
   "id": "ceda92da-e2c2-4151-8f2a-34accdd42e93",
   "metadata": {},
   "outputs": [],
   "source": []
  }
 ],
 "metadata": {
  "kernelspec": {
   "display_name": "Python 3 (ipykernel)",
   "language": "python",
   "name": "python3"
  },
  "language_info": {
   "codemirror_mode": {
    "name": "ipython",
    "version": 3
   },
   "file_extension": ".py",
   "mimetype": "text/x-python",
   "name": "python",
   "nbconvert_exporter": "python",
   "pygments_lexer": "ipython3",
   "version": "3.12.7"
  }
 },
 "nbformat": 4,
 "nbformat_minor": 5
}
