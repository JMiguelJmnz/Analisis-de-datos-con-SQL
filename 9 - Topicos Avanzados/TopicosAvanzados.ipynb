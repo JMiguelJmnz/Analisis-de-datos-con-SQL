{
 "cells": [
  {
   "cell_type": "code",
   "execution_count": 2,
   "id": "d83109c9-0589-4028-8953-358d46cff4d5",
   "metadata": {},
   "outputs": [],
   "source": [
    "import sqlite3\n",
    "import os\n",
    "import csv\n",
    "os.chdir(\"E:/EBAC/Material/M43-Tópicos avanzados\")\n",
    "conn = sqlite3.connect(\"ReparacionCompus.db\")"
   ]
  },
  {
   "cell_type": "code",
   "execution_count": 3,
   "id": "f5bb8613-8ba9-46af-9b1d-9989c0cbaeec",
   "metadata": {},
   "outputs": [],
   "source": [
    "cur = conn.cursor()"
   ]
  },
  {
   "cell_type": "code",
   "execution_count": 4,
   "id": "9800c9c1-3f96-4059-9e66-ca2aac6ab61a",
   "metadata": {},
   "outputs": [],
   "source": [
    "# Tabla que contenga la informacion de los clientes\n",
    "cur.execute('''\n",
    "    CREATE TABLE Clientes (\n",
    "    NombreCliente TEXT PRIMARY KEY,\n",
    "    Direccion TEXT,\n",
    "    Telefono INTEGER)\n",
    "    ''');"
   ]
  },
  {
   "cell_type": "code",
   "execution_count": 6,
   "id": "e9e677d1-da72-4312-8b73-801b21e4a270",
   "metadata": {},
   "outputs": [],
   "source": [
    "# Insertar valores a la tabla\n",
    "with open('clientes.csv') as f:\n",
    "    reader = csv.reader(f)\n",
    "    data = list(reader)\n",
    "\n",
    "for renglon in range(1, len(data)):\n",
    "    cur.execute(\"\"\"\n",
    "        INSERT INTO Clientes (NombreCliente, Direccion, Telefono)\n",
    "        VALUES (?,?,?)\n",
    "    \"\"\", data[renglon])"
   ]
  },
  {
   "cell_type": "code",
   "execution_count": 8,
   "id": "f99e1ccc-7a00-4123-ba4b-d66da4750933",
   "metadata": {},
   "outputs": [
    {
     "data": {
      "text/plain": [
       "[('Juan Perez', 'Calle 123, Ciudad A', 5551234567),\n",
       " ('Maria Gomez', 'Avenida 456, Ciudad B', 5552345678),\n",
       " ('Carlos Ruiz', 'Calle Principal 789, Ciudad C', 5553456789),\n",
       " ('Laura Fernandez', 'Carrera 101, Ciudad D', 5554567890),\n",
       " ('Pedro Martinez', 'Boulevard 202, Ciudad E', 5555678901),\n",
       " ('Ana Lopez', 'Plaza Central 303, Ciudad F', 5556789012),\n",
       " ('Jorge Ramirez', 'Zona Norte 404, Ciudad G', 5557890123),\n",
       " ('Sofia Herrera', 'Pasaje 505, Ciudad H', 5558901234),\n",
       " ('Luis Torres', 'Sector Sur 606, Ciudad I', 5559012345),\n",
       " ('Elena Vargas', 'Camino Real 707, Ciudad J', 5550123456),\n",
       " ('Fernando Castro', 'Calle 808, Ciudad K', 5551234501),\n",
       " ('Gabriela Diaz', 'Avenida 909, Ciudad L', 5552345602),\n",
       " ('Raul Mendoza', 'Carrera 111, Ciudad M', 5553456703),\n",
       " ('Isabel Soto', 'Plaza Norte 222, Ciudad N', 5554567804),\n",
       " ('Ricardo Guzman', 'Sector 333, Ciudad O', 5555678905),\n",
       " ('Monica Salinas', 'Pasaje 444, Ciudad P', 5556789006),\n",
       " ('Victor Rios', 'Camino Viejo 555, Ciudad Q', 5557890107),\n",
       " ('Beatriz Flores', 'Calle 666, Ciudad R', 5558901208),\n",
       " ('Andres Espinoza', 'Avenida 777, Ciudad S', 5559012309),\n",
       " ('Patricia Leon', 'Carrera 888, Ciudad T', 5550123410)]"
      ]
     },
     "execution_count": 8,
     "metadata": {},
     "output_type": "execute_result"
    }
   ],
   "source": [
    "# Revision de datos\n",
    "cur.execute('SELECT * FROM Clientes')\n",
    "result=cur.fetchall()\n",
    "result"
   ]
  },
  {
   "cell_type": "code",
   "execution_count": 9,
   "id": "3dc0e1da-8932-4fe7-96cc-f7a95212b50b",
   "metadata": {},
   "outputs": [],
   "source": [
    "# Tabla conteniendo informacion tecnica de reparaciones a realizar\n",
    "cur.execute('''\n",
    "    CREATE TABLE Trabajos (\n",
    "    NombreDispositivo TEXT PRIMARY KEY,\n",
    "    NombreCliente TEXT,\n",
    "    Precio INTEGER,\n",
    "    FechaIngreso DATE,\n",
    "    FechaEntrega DATE)\n",
    "    ''');"
   ]
  },
  {
   "cell_type": "code",
   "execution_count": 11,
   "id": "5f31372b-c309-42f2-bca1-a413675c2ef5",
   "metadata": {},
   "outputs": [],
   "source": [
    "# Insertar valores a la tabla\n",
    "with open('trabajos.csv') as f:\n",
    "    reader = csv.reader(f)\n",
    "    data = list(reader)\n",
    "\n",
    "for renglon in range(1, len(data)):\n",
    "    cur.execute(\"\"\"\n",
    "        INSERT INTO Trabajos (NombreDispositivo, NombreCliente, Precio, FechaIngreso, FechaEntrega)\n",
    "        VALUES (?,?,?,?,?)\n",
    "    \"\"\", data[renglon])"
   ]
  },
  {
   "cell_type": "code",
   "execution_count": 33,
   "id": "e873c0f8-81b5-4c23-a64c-276b37988374",
   "metadata": {},
   "outputs": [
    {
     "data": {
      "text/plain": [
       "[('Fernando Castro',),\n",
       " ('Andres Espinoza',),\n",
       " ('Carlos Ruiz',),\n",
       " ('Fernando Castro',),\n",
       " ('Carlos Ruiz',),\n",
       " ('Patricia Leon',),\n",
       " ('Gabriela Diaz',),\n",
       " ('Gabriela Diaz',),\n",
       " ('Pedro Martinez',),\n",
       " ('Carlos Ruiz',),\n",
       " ('Beatriz Flores',),\n",
       " ('Jorge Ramirez',),\n",
       " ('Beatriz Flores',),\n",
       " ('Juan Perez',),\n",
       " ('Gabriela Diaz',),\n",
       " ('Gabriela Diaz',),\n",
       " ('Juan Perez',),\n",
       " ('Beatriz Flores',),\n",
       " ('Fernando Castro',),\n",
       " ('Gabriela Diaz',)]"
      ]
     },
     "execution_count": 33,
     "metadata": {},
     "output_type": "execute_result"
    }
   ],
   "source": [
    "# Revision de datos\n",
    "cur.execute('SELECT * FROM Trabajos')\n",
    "result=cur.fetchall()\n",
    "result"
   ]
  },
  {
   "cell_type": "code",
   "execution_count": 14,
   "id": "2e1c8665-95a7-475d-9742-2212aaa3d930",
   "metadata": {},
   "outputs": [
    {
     "data": {
      "text/plain": [
       "[('Fernando Castro', 'Laptop Dell XPS', 1394),\n",
       " ('Andres Espinoza', 'iPhone 13 Pro', 2858),\n",
       " ('Carlos Ruiz', 'Samsung Galaxy S22', 4566),\n",
       " ('Fernando Castro', 'MacBook Pro 16', 4614),\n",
       " ('Carlos Ruiz', 'HP Pavilion', 4335),\n",
       " ('Patricia Leon', 'iPad Air', 802),\n",
       " ('Gabriela Diaz', 'Lenovo ThinkPad', 3079),\n",
       " ('Gabriela Diaz', 'Xbox Series X', 1990),\n",
       " ('Pedro Martinez', 'PlayStation 5', 4174),\n",
       " ('Carlos Ruiz', 'Smart TV LG', 1486),\n",
       " ('Beatriz Flores', 'GoPro Hero 10', 1286),\n",
       " ('Jorge Ramirez', 'Canon EOS R5', 1776),\n",
       " ('Beatriz Flores', 'Nintendo Switch', 531),\n",
       " ('Juan Perez', 'OnePlus 10', 3303),\n",
       " ('Gabriela Diaz', 'Google Pixel 7', 1978),\n",
       " ('Gabriela Diaz', 'Razer Blade 15', 4931),\n",
       " ('Juan Perez', 'DJI Mavic Air', 4472),\n",
       " ('Beatriz Flores', 'ASUS ROG Zephyrus', 548),\n",
       " ('Fernando Castro', 'Bose Headphones 700', 882),\n",
       " ('Gabriela Diaz', 'Amazon Kindle', 2284)]"
      ]
     },
     "execution_count": 14,
     "metadata": {},
     "output_type": "execute_result"
    }
   ],
   "source": [
    "# Uso de INNER JOIN para filtrar solo resultados de clientes con trabajos registrados\n",
    "cur.execute('''\n",
    "    SELECT c.NombreCliente, t.NombreDispositivo, t.Precio\n",
    "    FROM Clientes AS c\n",
    "    INNER JOIN Trabajos AS t\n",
    "    ON c.NombreCliente = t.NombreCliente\n",
    "''')\n",
    "result=cur.fetchall()\n",
    "result"
   ]
  },
  {
   "cell_type": "code",
   "execution_count": 15,
   "id": "bcbb296f-d8a2-42cf-a8b0-7fe9e7d70d7b",
   "metadata": {},
   "outputs": [
    {
     "data": {
      "text/plain": [
       "[('Ana Lopez', None, None),\n",
       " ('Andres Espinoza', 'iPhone 13 Pro', 2858),\n",
       " ('Beatriz Flores', 'ASUS ROG Zephyrus', 548),\n",
       " ('Beatriz Flores', 'GoPro Hero 10', 1286),\n",
       " ('Beatriz Flores', 'Nintendo Switch', 531),\n",
       " ('Carlos Ruiz', 'HP Pavilion', 4335),\n",
       " ('Carlos Ruiz', 'Samsung Galaxy S22', 4566),\n",
       " ('Carlos Ruiz', 'Smart TV LG', 1486),\n",
       " ('Elena Vargas', None, None),\n",
       " ('Fernando Castro', 'Bose Headphones 700', 882),\n",
       " ('Fernando Castro', 'Laptop Dell XPS', 1394),\n",
       " ('Fernando Castro', 'MacBook Pro 16', 4614),\n",
       " ('Gabriela Diaz', 'Amazon Kindle', 2284),\n",
       " ('Gabriela Diaz', 'Google Pixel 7', 1978),\n",
       " ('Gabriela Diaz', 'Lenovo ThinkPad', 3079),\n",
       " ('Gabriela Diaz', 'Razer Blade 15', 4931),\n",
       " ('Gabriela Diaz', 'Xbox Series X', 1990),\n",
       " ('Isabel Soto', None, None),\n",
       " ('Jorge Ramirez', 'Canon EOS R5', 1776),\n",
       " ('Juan Perez', 'DJI Mavic Air', 4472),\n",
       " ('Juan Perez', 'OnePlus 10', 3303),\n",
       " ('Laura Fernandez', None, None),\n",
       " ('Luis Torres', None, None),\n",
       " ('Maria Gomez', None, None),\n",
       " ('Monica Salinas', None, None),\n",
       " ('Patricia Leon', 'iPad Air', 802),\n",
       " ('Pedro Martinez', 'PlayStation 5', 4174),\n",
       " ('Raul Mendoza', None, None),\n",
       " ('Ricardo Guzman', None, None),\n",
       " ('Sofia Herrera', None, None),\n",
       " ('Victor Rios', None, None)]"
      ]
     },
     "execution_count": 15,
     "metadata": {},
     "output_type": "execute_result"
    }
   ],
   "source": [
    "# Uso de LEFT JOIN para filtrar resultados de clientes incluso si no tienen trabajos registrados\n",
    "cur.execute('''\n",
    "    SELECT c.NombreCliente, t.NombreDispositivo, t.Precio\n",
    "    FROM Clientes AS c\n",
    "    LEFT JOIN Trabajos AS t\n",
    "    ON c.NombreCliente = t.NombreCliente\n",
    "''')\n",
    "result=cur.fetchall()\n",
    "result"
   ]
  },
  {
   "cell_type": "code",
   "execution_count": 17,
   "id": "ff976637-9a61-4481-891f-65dd6fbe4666",
   "metadata": {},
   "outputs": [
    {
     "data": {
      "text/plain": [
       "[('Fernando Castro', 'Laptop Dell XPS', 1394, '2024-04-27', 'Precio Bajo'),\n",
       " ('Andres Espinoza', 'iPhone 13 Pro', 2858, '2024-04-07', 'Precio Normal'),\n",
       " ('Carlos Ruiz', 'Samsung Galaxy S22', 4566, '2024-02-28', 'Precio Alto'),\n",
       " ('Fernando Castro', 'MacBook Pro 16', 4614, '2024-04-27', 'Precio Alto'),\n",
       " ('Carlos Ruiz', 'HP Pavilion', 4335, '2024-05-05', 'Precio Alto'),\n",
       " ('Patricia Leon', 'iPad Air', 802, '2024-01-11', 'Precio Bajo'),\n",
       " ('Gabriela Diaz', 'Lenovo ThinkPad', 3079, '2024-04-22', 'Precio Alto'),\n",
       " ('Gabriela Diaz', 'Xbox Series X', 1990, '2024-04-11', 'Precio Bajo'),\n",
       " ('Pedro Martinez', 'PlayStation 5', 4174, '2024-02-17', 'Precio Alto'),\n",
       " ('Carlos Ruiz', 'Smart TV LG', 1486, '2024-02-26', 'Precio Bajo'),\n",
       " ('Beatriz Flores', 'GoPro Hero 10', 1286, '2024-02-03', 'Precio Bajo'),\n",
       " ('Jorge Ramirez', 'Canon EOS R5', 1776, '2024-02-08', 'Precio Bajo'),\n",
       " ('Beatriz Flores', 'Nintendo Switch', 531, '2024-03-31', 'Precio Bajo'),\n",
       " ('Juan Perez', 'OnePlus 10', 3303, '2024-05-23', 'Precio Alto'),\n",
       " ('Gabriela Diaz', 'Google Pixel 7', 1978, '2024-01-11', 'Precio Bajo'),\n",
       " ('Gabriela Diaz', 'Razer Blade 15', 4931, '2024-04-01', 'Precio Alto'),\n",
       " ('Juan Perez', 'DJI Mavic Air', 4472, '2024-03-22', 'Precio Alto'),\n",
       " ('Beatriz Flores', 'ASUS ROG Zephyrus', 548, '2024-06-04', 'Precio Bajo'),\n",
       " ('Fernando Castro', 'Bose Headphones 700', 882, '2024-06-04', 'Precio Bajo'),\n",
       " ('Gabriela Diaz', 'Amazon Kindle', 2284, '2024-04-14', 'Precio Normal')]"
      ]
     },
     "execution_count": 17,
     "metadata": {},
     "output_type": "execute_result"
    }
   ],
   "source": [
    "# Uso de CASE WHEN para clasificar trabajos por su precio\n",
    "cur.execute('''\n",
    "    SELECT NombreCliente, NombreDispositivo, Precio, FechaEntrega,\n",
    "        CASE\n",
    "            WHEN Precio > 3000 THEN 'Precio Alto'\n",
    "            WHEN Precio BETWEEN 2000 AND 3000 THEN 'Precio Normal'\n",
    "            ELSE 'Precio Bajo'\n",
    "        END AS CategoriaPrecio\n",
    "    FROM Trabajos\n",
    "''')\n",
    "result=cur.fetchall()\n",
    "result"
   ]
  },
  {
   "cell_type": "code",
   "execution_count": 18,
   "id": "79d01fd6-68c6-4e78-b97f-dafb48b0f365",
   "metadata": {},
   "outputs": [
    {
     "data": {
      "text/plain": [
       "[('Andres Espinoza',),\n",
       " ('Beatriz Flores',),\n",
       " ('Carlos Ruiz',),\n",
       " ('Fernando Castro',),\n",
       " ('Gabriela Diaz',),\n",
       " ('Jorge Ramirez',),\n",
       " ('Juan Perez',),\n",
       " ('Pedro Martinez',)]"
      ]
     },
     "execution_count": 18,
     "metadata": {},
     "output_type": "execute_result"
    }
   ],
   "source": [
    "# Ejemplo de Semi-Join donde se muestan los clientes de la primera tabla donde tienen algun trabajo \n",
    "# registrado en la segunda tabla con valor mayor a 1000\n",
    "cur.execute('''\n",
    "    SELECT c.NombreCliente\n",
    "    FROM Clientes AS c\n",
    "    WHERE c.NombreCliente IN\n",
    "        (SELECT t.NombreCliente\n",
    "         FROM Trabajos AS t\n",
    "         WHERE Precio > 1000)         \n",
    "''')\n",
    "\n",
    "result = cur.fetchall()\n",
    "result"
   ]
  },
  {
   "cell_type": "code",
   "execution_count": 22,
   "id": "7ae0ab67-4bb7-43a2-8fcb-88e7a83a7035",
   "metadata": {},
   "outputs": [
    {
     "data": {
      "text/plain": [
       "[('Fernando Castro', 1394),\n",
       " ('Patricia Leon', 802),\n",
       " ('Gabriela Diaz', 1990),\n",
       " ('Carlos Ruiz', 1486),\n",
       " ('Beatriz Flores', 1286),\n",
       " ('Jorge Ramirez', 1776),\n",
       " ('Beatriz Flores', 531),\n",
       " ('Gabriela Diaz', 1978),\n",
       " ('Beatriz Flores', 548),\n",
       " ('Fernando Castro', 882),\n",
       " ('Gabriela Diaz', 2284)]"
      ]
     },
     "execution_count": 22,
     "metadata": {},
     "output_type": "execute_result"
    }
   ],
   "source": [
    "# Uso de un SubQuery para seleccionar aquellos clientes cuyo monto de compra es menor al promedio general\n",
    "cur.execute('''\n",
    "    SELECT NombreCliente, Precio\n",
    "    FROM Trabajos\n",
    "    WHERE Precio <\n",
    "        (SELECT AVG(Precio) FROM Trabajos)\n",
    "''')\n",
    "\n",
    "result = cur.fetchall()\n",
    "result"
   ]
  },
  {
   "cell_type": "code",
   "execution_count": 36,
   "id": "28449487-8597-4d64-ac83-d288f6978d83",
   "metadata": {},
   "outputs": [
    {
     "data": {
      "text/plain": [
       "[('Ana Lopez',),\n",
       " ('Elena Vargas',),\n",
       " ('Isabel Soto',),\n",
       " ('Laura Fernandez',),\n",
       " ('Luis Torres',),\n",
       " ('Maria Gomez',),\n",
       " ('Monica Salinas',),\n",
       " ('Raul Mendoza',),\n",
       " ('Ricardo Guzman',),\n",
       " ('Sofia Herrera',),\n",
       " ('Victor Rios',)]"
      ]
     },
     "execution_count": 36,
     "metadata": {},
     "output_type": "execute_result"
    }
   ],
   "source": [
    "# Uso de Anti-Join para seleccionar Clientes que no tienen trabajos registrados\n",
    "cur.execute('''\n",
    "    SELECT c.NombreCliente\n",
    "    FROM Clientes AS c\n",
    "    WHERE c.NombreCliente NOT IN\n",
    "        (SELECT t.NombreCliente\n",
    "        FROM Trabajos AS t)\n",
    "''')\n",
    "result = cur.fetchall()\n",
    "result"
   ]
  },
  {
   "cell_type": "code",
   "execution_count": null,
   "id": "569f6f6c-2c32-4dc0-86e4-3e0aaaa0e3d9",
   "metadata": {},
   "outputs": [],
   "source": []
  }
 ],
 "metadata": {
  "kernelspec": {
   "display_name": "Python 3 (ipykernel)",
   "language": "python",
   "name": "python3"
  },
  "language_info": {
   "codemirror_mode": {
    "name": "ipython",
    "version": 3
   },
   "file_extension": ".py",
   "mimetype": "text/x-python",
   "name": "python",
   "nbconvert_exporter": "python",
   "pygments_lexer": "ipython3",
   "version": "3.12.7"
  }
 },
 "nbformat": 4,
 "nbformat_minor": 5
}
